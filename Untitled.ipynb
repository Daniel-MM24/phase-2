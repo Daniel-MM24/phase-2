{
 "cells": [
  {
   "cell_type": "code",
   "execution_count": 2,
   "metadata": {},
   "outputs": [],
   "source": [
    "import sqlite3\n",
    "conn = sqlite3.connect('data.sqlite')"
   ]
  },
  {
   "cell_type": "code",
   "execution_count": 3,
   "metadata": {},
   "outputs": [
    {
     "name": "stdout",
     "output_type": "stream",
     "text": [
      "DSF_PT08_create_SQL_database_and_select_elements_from_tables.ipynb  data.sqlite\r\n",
      "Untitled.ipynb\r\n"
     ]
    }
   ],
   "source": [
    "! ls"
   ]
  },
  {
   "cell_type": "code",
   "execution_count": 10,
   "metadata": {},
   "outputs": [],
   "source": [
    "cur = conn.cursor()"
   ]
  },
  {
   "cell_type": "code",
   "execution_count": 16,
   "metadata": {},
   "outputs": [],
   "source": [
    "import  sqlite3\n",
    "\n",
    "class_conn = sqlite3.connect('class_') # Creating a database called class\n",
    "class_cur = class_conn.cursor() # Helps us to excute the  sql commands\n",
    "\n",
    "# Add two tables ; admission and classroom\n",
    "\n",
    "class_cur.execute(\"\"\"\n",
    "                  CREATE TABLE IF NOT EXISTS admission\n",
    "                  ([student_id] INTEGER PRIMARY KEY,\n",
    "                  [gender] TEXT(20),\n",
    "                  [name] TEXT(100))\n",
    "                  \"\"\")\n",
    "class_cur.execute(\"\"\"\n",
    "                  CREATE TABLE IF NOT EXISTS classroom\n",
    "                  ([student_id] INTEGER PRIMARY KEY,\n",
    "                  [gender] TEXT(20),\n",
    "                  [name] TEXT(100),\n",
    "                  [marks] INTEGER)\n",
    "\n",
    "                  \"\"\")\n",
    "class_conn.commit() #  commint adds our two tables  in our database we have ctreated\n",
    "\n"
   ]
  },
  {
   "cell_type": "code",
   "execution_count": 17,
   "metadata": {},
   "outputs": [],
   "source": [
    "class_cur.execute(\"\"\"\n",
    "                  INSERT  INTO admission (student_id, gender, name)\n",
    "\n",
    "                    VALUES\n",
    "                    (1,'F','IVY'),\n",
    "                    (2,'F','JUNE'),\n",
    "                    (3,'M','ERIC')\n",
    "                  \"\"\")\n",
    "class_cur.execute(\"\"\"names \n",
    "                  INSERT  INTO classroom (student_id, gender, name)\n",
    "\n",
    "                    VALUES\n",
    "                    (1,'F','IVY'),\n",
    "                    (2,'F','JUNE'),\n",
    "                    (3,'M','ERIC')\n",
    "                  \"\"\")\n",
    "class_conn.commit()"
   ]
  },
  {
   "cell_type": "code",
   "execution_count": 18,
   "metadata": {},
   "outputs": [
    {
     "name": "stdout",
     "output_type": "stream",
     "text": [
      "DSF_PT08_create_SQL_database_and_select_elements_from_tables.ipynb  class_\r\n",
      "Untitled.ipynb\t\t\t\t\t\t\t    data.sqlite\r\n"
     ]
    }
   ],
   "source": [
    "! ls"
   ]
  },
  {
   "cell_type": "code",
   "execution_count": 20,
   "metadata": {},
   "outputs": [
    {
     "data": {
      "text/plain": [
       "[('orderdetails',),\n",
       " ('payments',),\n",
       " ('offices',),\n",
       " ('customers',),\n",
       " ('orders',),\n",
       " ('productlines',),\n",
       " ('products',),\n",
       " ('employees',)]"
      ]
     },
     "execution_count": 20,
     "metadata": {},
     "output_type": "execute_result"
    }
   ],
   "source": [
    "cur.execute(\"\"\"SELECT name FROM sqlite_master WHERE type = 'table';\"\"\")\n",
    "\n",
    "table_names = cur.fetchall()\n",
    "table_names"
   ]
  },
  {
   "cell_type": "code",
   "execution_count": 22,
   "metadata": {},
   "outputs": [
    {
     "data": {
      "text/plain": [
       "[('CREATE TABLE `employees` (`employeeNumber`, `lastName`, `firstName`, `extension`, `email`, `officeCode`, `reportsTo`, `jobTitle`)',)]"
      ]
     },
     "execution_count": 22,
     "metadata": {},
     "output_type": "execute_result"
    }
   ],
   "source": [
    "cur.execute(\"\"\"SELECT sql FROM sqlite_master WHERE type = 'table' AND name = 'employees';\"\"\")\n",
    "\n",
    "employee_columns = cur.fetchall()\n",
    "employee_columns"
   ]
  },
  {
   "cell_type": "code",
   "execution_count": 23,
   "metadata": {},
   "outputs": [
    {
     "data": {
      "text/plain": [
       "[('1002',\n",
       "  'Murphy',\n",
       "  'Diane',\n",
       "  'x5800',\n",
       "  'dmurphy@classicmodelcars.com',\n",
       "  '1',\n",
       "  '',\n",
       "  'President'),\n",
       " ('1056',\n",
       "  'Patterson',\n",
       "  'Mary',\n",
       "  'x4611',\n",
       "  'mpatterso@classicmodelcars.com',\n",
       "  '1',\n",
       "  '1002',\n",
       "  'VP Sales'),\n",
       " ('1076',\n",
       "  'Firrelli',\n",
       "  'Jeff',\n",
       "  'x9273',\n",
       "  'jfirrelli@classicmodelcars.com',\n",
       "  '1',\n",
       "  '1002',\n",
       "  'VP Marketing'),\n",
       " ('1088',\n",
       "  'Patterson',\n",
       "  'William',\n",
       "  'x4871',\n",
       "  'wpatterson@classicmodelcars.com',\n",
       "  '6',\n",
       "  '1056',\n",
       "  'Sales Manager (APAC)'),\n",
       " ('1102',\n",
       "  'Bondur',\n",
       "  'Gerard',\n",
       "  'x5408',\n",
       "  'gbondur@classicmodelcars.com',\n",
       "  '4',\n",
       "  '1056',\n",
       "  'Sale Manager (EMEA)')]"
      ]
     },
     "execution_count": 23,
     "metadata": {},
     "output_type": "execute_result"
    }
   ],
   "source": [
    "cur.execute(\"\"\"SELECT * FROM employees LIMIT 5;\"\"\")\n",
    "cur.fetchall()"
   ]
  },
  {
   "cell_type": "code",
   "execution_count": null,
   "metadata": {},
   "outputs": [],
   "source": []
  }
 ],
 "metadata": {
  "kernelspec": {
   "display_name": "Python (learn-env)",
   "language": "python",
   "name": "learn-env"
  },
  "language_info": {
   "codemirror_mode": {
    "name": "ipython",
    "version": 3
   },
   "file_extension": ".py",
   "mimetype": "text/x-python",
   "name": "python",
   "nbconvert_exporter": "python",
   "pygments_lexer": "ipython3",
   "version": "3.8.5"
  }
 },
 "nbformat": 4,
 "nbformat_minor": 4
}
